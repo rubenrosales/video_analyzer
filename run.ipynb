{
  "nbformat": 4,
  "nbformat_minor": 0,
  "metadata": {
    "colab": {
      "provenance": []
    },
    "kernelspec": {
      "name": "python3",
      "display_name": "Python 3"
    },
    "language_info": {
      "name": "python"
    }
  },
  "cells": [
    {
      "cell_type": "code",
      "execution_count": 1,
      "metadata": {
        "colab": {
          "base_uri": "https://localhost:8080/"
        },
        "id": "Q4Rr-l5YK6Wv",
        "outputId": "203e9644-f36f-4110-a85e-b0a99746b762"
      },
      "outputs": [
        {
          "output_type": "stream",
          "name": "stderr",
          "text": [
            "WARNING:py.warnings:/usr/local/lib/python3.11/dist-packages/moviepy/video/io/sliders.py:61: SyntaxWarning: \"is\" with a literal. Did you mean \"==\"?\n",
            "  if event.key is 'enter':\n",
            "\n"
          ]
        }
      ],
      "source": [
        "import os\n",
        "from typing import List, Tuple, Dict\n",
        "from google.generativeai import configure, GenerativeModel\n",
        "import re\n",
        "import logging\n",
        "\n",
        "# Configure logging\n",
        "logging.basicConfig(level=logging.INFO, format='%(asctime)s - %(levelname)s - %(message)s')\n"
      ]
    },
    {
      "cell_type": "code",
      "source": [
        "def dynamic_game_prompt_template(game_name: str) -> str:\n",
        "    \"\"\"Generates a dynamic game-specific prompt where the LLM determines key mistakes and better alternatives, returning a structured JSON output.\"\"\"\n",
        "\n",
        "    return (\n",
        "        f\"You are an expert video game coach specializing in analyzing gameplay for {game_name}.\\n\"\n",
        "        f\"Your task is to analyze a gameplay video and provide **a comprehensive, mistake-focused breakdown** based on the game's mechanics, strategies, and execution.\\n\\n\"\n",
        "\n",
        "        f\"### **Step 1: Identify Key Focus Areas for Analysis**\\n\"\n",
        "        f\"- Before analyzing the video, list at least **6-8 key factors** that influence success in {game_name}.\\n\"\n",
        "        f\"- These could include mechanics, strategy, decision-making, positioning, adaptability, execution, etc.\\n\"\n",
        "        f\"- Weigh their importance before selecting the **4-5 most critical areas** for identifying mistakes.\\n\\n\"\n",
        "\n",
        "        f\"### **Step 2: Extract and List All Mistakes & Better Alternatives**\\n\"\n",
        "        f\"Provide an exhaustive breakdown of **all major mistakes** made by the player, along with better choices they could have made.\\n\"\n",
        "        f\"- Each mistake must be accompanied by a **timestamp** and a specific explanation of why it was incorrect.\\n\"\n",
        "        f\"- Provide **a clearly superior alternative action** with a rationale for why it would have been better.\\n\\n\"\n",
        "\n",
        "        f\"### **Output Format:**\\n\"\n",
        "        f\"Return the analysis strictly in the following JSON format:\\n\"\n",
        "        f\"```json\\n\"\n",
        "        f\"{{\\n\"\n",
        "        f\"  \\\"game\\\": \\\"{game_name}\\\",\\n\"\n",
        "        f\"  \\\"key_focus_areas\\\": [\\n\"\n",
        "        f\"    \\\"Factor 1\\\",\\n\"\n",
        "        f\"    \\\"Factor 2\\\",\\n\"\n",
        "        f\"    \\\"Factor 3\\\",\\n\"\n",
        "        f\"    \\\"Factor 4\\\"\\n\"\n",
        "        f\"  ],\\n\"\n",
        "        f\"  \\\"mistakes\\\": [\\n\"\n",
        "        f\"    {{\\n\"\n",
        "        f\"      \\\"timestamp\\\": \\\"00:00:00\\\",\\n\"\n",
        "        f\"      \\\"description\\\": \\\"Brief mistake description.\\\",\\n\"\n",
        "        f\"      \\\"why_incorrect\\\": \\\"Explanation of why this mistake is bad.\\\",\\n\"\n",
        "        f\"      \\\"better_alternative\\\": \\\"What should have been done instead.\\\",\\n\"\n",
        "        f\"      \\\"expected_benefit\\\": \\\"Why the alternative is superior.\\\"\\n\"\n",
        "        f\"    }}\\n\"\n",
        "        f\"  ],\\n\"\n",
        "        f\"  \\\"repeated_errors\\\": [\\n\"\n",
        "        f\"    {{\\n\"\n",
        "        f\"      \\\"pattern\\\": \\\"Description of recurring mistake.\\\",\\n\"\n",
        "        f\"      \\\"occurrences\\\": [\\\"00:01:30\\\", \\\"00:04:15\\\"],\\n\"\n",
        "        f\"      \\\"fix\\\": \\\"Advice on how to correct this mistake.\\\"\\n\"\n",
        "        f\"    }}\\n\"\n",
        "        f\"  ],\\n\"\n",
        "        f\"  \\\"missed_opportunities\\\": [\\n\"\n",
        "        f\"    {{\\n\"\n",
        "        f\"      \\\"timestamp\\\": \\\"00:02:45\\\",\\n\"\n",
        "        f\"      \\\"missed_action\\\": \\\"What could have been done instead.\\\",\\n\"\n",
        "        f\"      \\\"expected_outcome\\\": \\\"Benefit of the missed opportunity.\\\"\\n\"\n",
        "        f\"    }}\\n\"\n",
        "        f\"  ]\\n\"\n",
        "        f\"}}\\n\"\n",
        "        f\"```\\n\\n\"\n",
        "\n",
        "        f\"### **Important Instructions:**\\n\"\n",
        "        f\"- **Only return JSON output**—do not include any additional text.\\n\"\n",
        "        f\"- Focus exclusively on **mistakes, missed opportunities, and better alternatives.**\\n\"\n",
        "        f\"- Do **not** include strengths or positive feedback.\\n\"\n",
        "        f\"- Always include timestamps when referring to gameplay moments.\\n\"\n",
        "        f\"- Ensure all explanations are specific, structured, and **actionable**.\\n\"\n",
        "        f\"- Provide alternatives in a way that makes it clear **how the player should adjust their playstyle.**\\n\"\n",
        "        f\"- Do not include unnecessary conversational elements—only return the structured JSON output.\"\n",
        "    )\n"
      ],
      "metadata": {
        "id": "MMvFpTZsLe1i"
      },
      "execution_count": 29,
      "outputs": []
    },
    {
      "cell_type": "code",
      "source": [
        "prompt=dynamic_game_prompt_template(\"EA FC 24\")"
      ],
      "metadata": {
        "id": "uTsMiQ58TSVg"
      },
      "execution_count": 30,
      "outputs": []
    },
    {
      "cell_type": "code",
      "source": [
        "\n",
        "\n",
        "from google.colab import userdata\n",
        "API_KEY = userdata.get('GOOGLE_API_KEY')\n",
        "# Example usage:\n",
        "GAME_NAME = \"EA FC 24\"\n"
      ],
      "metadata": {
        "id": "iHLrT5sQMQf0"
      },
      "execution_count": 4,
      "outputs": []
    },
    {
      "cell_type": "code",
      "source": [
        "import google.generativeai as genai\n",
        "\n",
        "\n",
        "genai.configure(api_key=API_KEY)\n"
      ],
      "metadata": {
        "id": "eZQoRzk4Rm53"
      },
      "execution_count": 5,
      "outputs": []
    },
    {
      "cell_type": "code",
      "source": [
        "import os\n",
        "\n",
        "def list_video_files(directory):\n",
        "  \"\"\"Lists all video files in a given directory.\n",
        "\n",
        "  Args:\n",
        "    directory: The path to the directory to search.\n",
        "\n",
        "  Returns:\n",
        "    A list of strings, where each string is the full path to a video file.\n",
        "    Returns an empty list if no video files are found or if the directory\n",
        "    does not exist.\n",
        "  \"\"\"\n",
        "\n",
        "  video_extensions = ['.mp4', '.avi', '.mov', '.mkv', '.wmv', '.flv', '.webm']  # Add more if needed\n",
        "  video_files = []\n",
        "\n",
        "  if not os.path.exists(directory):\n",
        "    print(f\"Error: Directory '{directory}' not found.\")\n",
        "    return video_files # Return an empty list\n",
        "\n",
        "  for filename in os.listdir(directory):\n",
        "    filepath = os.path.join(directory, filename)\n",
        "    if os.path.isfile(filepath):  # Make sure it's a file, not a directory\n",
        "      _, ext = os.path.splitext(filename)  # Split filename into base and extension\n",
        "      if ext.lower() in video_extensions:\n",
        "        video_files.append(filepath)\n",
        "\n",
        "  return video_files\n"
      ],
      "metadata": {
        "id": "VtnyWMpSRvyF"
      },
      "execution_count": 21,
      "outputs": []
    },
    {
      "cell_type": "code",
      "source": [
        "video_dir=\"/content/videos\"\n",
        "files = list_video_files(video_dir)"
      ],
      "metadata": {
        "id": "lM_Bw3uIZxMV"
      },
      "execution_count": 23,
      "outputs": []
    },
    {
      "cell_type": "code",
      "source": [
        "video_files=[]\n",
        "for _file in files:\n",
        "\n",
        "  print(f\"Uploading file...\")\n",
        "  video_file = genai.upload_file(path=_file)\n",
        "  print(f\"Completed upload: {video_file.uri}\")\n",
        "  video_files.append(video_file)"
      ],
      "metadata": {
        "colab": {
          "base_uri": "https://localhost:8080/",
          "height": 88
        },
        "id": "wLZu3rOLaY6J",
        "outputId": "69ec1e10-2705-4601-e10a-0598f6ddcf3c"
      },
      "execution_count": 25,
      "outputs": [
        {
          "output_type": "stream",
          "name": "stdout",
          "text": [
            "Uploading file...\n",
            "Completed upload: https://generativelanguage.googleapis.com/v1beta/files/gw5j02elk7ni\n",
            "Uploading file...\n",
            "Completed upload: https://generativelanguage.googleapis.com/v1beta/files/b9qgqqwdm3de\n"
          ]
        }
      ]
    },
    {
      "cell_type": "code",
      "source": [
        "# Set the model to Gemini Flash.\n",
        "model = genai.GenerativeModel(model_name=\"models/gemini-2.0-flash\")\n",
        "output=[]\n",
        "for _video in video_files:\n",
        "  # Make the LLM request.\n",
        "  print(\"Making LLM inference request...\")\n",
        "  response = model.generate_content([prompt, _video],\n",
        "                                    request_options={\"timeout\": 600})\n",
        "\n",
        "  output.append({\n",
        "      \"video\": _video,\n",
        "      \"response\": response.text,\n",
        "  })"
      ],
      "metadata": {
        "colab": {
          "base_uri": "https://localhost:8080/",
          "height": 53
        },
        "id": "K8d3-WRsRseL",
        "outputId": "1be88071-cd62-475b-ef79-54515b690585"
      },
      "execution_count": 32,
      "outputs": [
        {
          "output_type": "stream",
          "name": "stdout",
          "text": [
            "Making LLM inference request...\n",
            "Making LLM inference request...\n"
          ]
        }
      ]
    },
    {
      "cell_type": "code",
      "source": [
        "help(response)"
      ],
      "metadata": {
        "colab": {
          "base_uri": "https://localhost:8080/"
        },
        "id": "jmwW0W8VcBMD",
        "outputId": "77981d3f-854f-4d36-d818-c5a4f84e0607"
      },
      "execution_count": 41,
      "outputs": [
        {
          "output_type": "stream",
          "name": "stdout",
          "text": [
            "Help on GenerateContentResponse in module google.generativeai.types.generation_types object:\n",
            "\n",
            "class GenerateContentResponse(BaseGenerateContentResponse)\n",
            " |  GenerateContentResponse(done: 'bool', iterator: 'None | Iterable[protos.GenerateContentResponse] | AsyncIterable[protos.GenerateContentResponse]', result: 'protos.GenerateContentResponse', chunks: 'Iterable[protos.GenerateContentResponse] | None' = None)\n",
            " |  \n",
            " |  Instances of this class manage the response of the `generate_content` method.\n",
            " |  \n",
            " |  These are returned by `GenerativeModel.generate_content` and `ChatSession.send_message`.\n",
            " |  This object is based on the low level `protos.GenerateContentResponse` class which just has `prompt_feedback`\n",
            " |  and `candidates` attributes. This class adds several quick accessors for common use cases.\n",
            " |  \n",
            " |  The same object type is returned for both `stream=True/False`.\n",
            " |  \n",
            " |  ### Streaming\n",
            " |  \n",
            " |  When you pass `stream=True` to `GenerativeModel.generate_content` or `ChatSession.send_message`,\n",
            " |  iterate over this object to receive chunks of the response:\n",
            " |  \n",
            " |  ```\n",
            " |  response = model.generate_content(..., stream=True):\n",
            " |  for chunk in response:\n",
            " |    print(chunk.text)\n",
            " |  ```\n",
            " |  \n",
            " |  `GenerateContentResponse.prompt_feedback` is available immediately but\n",
            " |  `GenerateContentResponse.candidates`, and all the attributes derived from them (`.text`, `.parts`),\n",
            " |  are only available after the iteration is complete.\n",
            " |  \n",
            " |  Method resolution order:\n",
            " |      GenerateContentResponse\n",
            " |      BaseGenerateContentResponse\n",
            " |      builtins.object\n",
            " |  \n",
            " |  Methods defined here:\n",
            " |  \n",
            " |  __iter__(self)\n",
            " |  \n",
            " |  resolve(self)\n",
            " |  \n",
            " |  ----------------------------------------------------------------------\n",
            " |  Class methods defined here:\n",
            " |  \n",
            " |  from_iterator(iterator: 'Iterable[protos.GenerateContentResponse]')\n",
            " |  \n",
            " |  from_response(response: 'protos.GenerateContentResponse')\n",
            " |  \n",
            " |  ----------------------------------------------------------------------\n",
            " |  Methods inherited from BaseGenerateContentResponse:\n",
            " |  \n",
            " |  __init__(self, done: 'bool', iterator: 'None | Iterable[protos.GenerateContentResponse] | AsyncIterable[protos.GenerateContentResponse]', result: 'protos.GenerateContentResponse', chunks: 'Iterable[protos.GenerateContentResponse] | None' = None)\n",
            " |      Initialize self.  See help(type(self)) for accurate signature.\n",
            " |  \n",
            " |  __repr__ = __str__(self) -> 'str'\n",
            " |  \n",
            " |  __str__(self) -> 'str'\n",
            " |      Return str(self).\n",
            " |  \n",
            " |  to_dict(self)\n",
            " |      Returns the result as a JSON-compatible dict.\n",
            " |      \n",
            " |      Note: This doesn't capture the iterator state when streaming, it only captures the accumulated\n",
            " |      `GenerateContentResponse` fields.\n",
            " |      \n",
            " |      >>> import json\n",
            " |      >>> response = model.generate_content('Hello?')\n",
            " |      >>> json.dumps(response.to_dict())\n",
            " |  \n",
            " |  ----------------------------------------------------------------------\n",
            " |  Readonly properties inherited from BaseGenerateContentResponse:\n",
            " |  \n",
            " |  candidates\n",
            " |      The list of candidate responses.\n",
            " |      \n",
            " |      Raises:\n",
            " |          IncompleteIterationError: With `stream=True` if iteration over the stream was not completed.\n",
            " |  \n",
            " |  model_version\n",
            " |  \n",
            " |  parts\n",
            " |      A quick accessor equivalent to `self.candidates[0].content.parts`\n",
            " |      \n",
            " |      Raises:\n",
            " |          ValueError: If the candidate list does not contain exactly one candidate.\n",
            " |  \n",
            " |  prompt_feedback\n",
            " |  \n",
            " |  text\n",
            " |      A quick accessor equivalent to `self.candidates[0].content.parts[0].text`\n",
            " |      \n",
            " |      Raises:\n",
            " |          ValueError: If the candidate list or parts list does not contain exactly one entry.\n",
            " |  \n",
            " |  usage_metadata\n",
            " |  \n",
            " |  ----------------------------------------------------------------------\n",
            " |  Data descriptors inherited from BaseGenerateContentResponse:\n",
            " |  \n",
            " |  __dict__\n",
            " |      dictionary for instance variables\n",
            " |  \n",
            " |  __weakref__\n",
            " |      list of weak references to the object\n",
            "\n"
          ]
        }
      ]
    },
    {
      "cell_type": "code",
      "source": [
        "response.text"
      ],
      "metadata": {
        "colab": {
          "base_uri": "https://localhost:8080/",
          "height": 303
        },
        "id": "wyXo0CKDcLop",
        "outputId": "e98844b7-8441-4793-9dec-230c880660c9"
      },
      "execution_count": 51,
      "outputs": [
        {
          "output_type": "execute_result",
          "data": {
            "text/plain": [
              "'```json\\n{\\n  \"game\": \"EA FC 24\",\\n  \"key_focus_areas\": [\\n    \"Passing Accuracy & Decision-Making\",\\n    \"Defensive Positioning & Awareness\",\\n    \"Use of Skill Moves & Dribbling\",\\n    \"Shot Selection & Timing\"\\n  ],\\n  \"mistakes\": [\\n    {\\n      \"timestamp\": \"00:28\",\\n      \"description\": \"Unnecessary risk when passing the ball to a player who is under pressure.\",\\n      \"why_incorrect\": \"Passing to a player marked by multiple opponents significantly increases the chance of losing possession. The passing lane is tight and the margin for error is very small.\",\\n      \"better_alternative\": \"Pass the ball backwards to a defender or midfielder who is in a better position and can see the passing options more clearly.\",\\n      \"expected_benefit\": \"Increases the likelihood of maintaining possession and building a more controlled attack.\"\\n    },\\n    {\\n      \"timestamp\": \"00:51\",\\n      \"description\": \"Trying to dribble through many players instead of passing.\",\\n      \"why_incorrect\": \"Attempting to dribble through a cluster of defenders rarely succeeds due to tight marking and increased chances of losing the ball. The area is too congested to effectively use dribbling skills.\",\\n      \"better_alternative\": \"Passing the ball to a player in open space on the wing.\",\\n      \"expected_benefit\": \"Spreading the play creates opportunities for crosses, cutbacks, and shots from wider angles, and the chances of success are much higher.\"\\n    },\\n    {\\n      \"timestamp\": \"03:04\",\\n      \"description\": \"The shot was underpowered.\",\\n      \"why_incorrect\": \"The shot was very weak. With the ball going to the corner of the goal, the opponent had enough time to get there and make the save.\",\\n      \"better_alternative\": \"Wait for the ball to get closer so a stronger shot can be made.\",\\n      \"expected_benefit\": \"Give the opponent less time to react and increase the chances of scoring.\"\\n    }\\n  ],\\n  \"repeated_errors\": [\\n    {\\n      \"pattern\": \"Passing into congested areas under pressure.\",\\n      \"occurrences\": [\"00:28\", \"00:51\"],\\n      \"fix\": \"Prioritize safe passing options to retain possession and build a more patient attack.\"\\n    }\\n  ],\\n  \"missed_opportunities\": [\\n    {\\n      \"timestamp\": \"03:04\",\\n      \"missed_action\": \"Pass to a wide open player.\",\\n      \"expected_outcome\": \"Guaranteed goal.\"\\n    }\\n  ]\\n}\\n```'"
            ],
            "application/vnd.google.colaboratory.intrinsic+json": {
              "type": "string"
            }
          },
          "metadata": {},
          "execution_count": 51
        }
      ]
    },
    {
      "cell_type": "code",
      "source": [
        "import json\n",
        "def extract_json(response: str):\n",
        "    \"\"\"Extracts the first valid JSON object from the response text.\"\"\"\n",
        "    match = re.search(r'\\{.*\\}', response, re.DOTALL)\n",
        "    if match:\n",
        "        json_text = match.group(0)  # Extracts only the JSON portion\n",
        "        return json.loads(json_text)\n",
        "    raise ValueError(\"No valid JSON found\")\n"
      ],
      "metadata": {
        "id": "ws16SK53csY3"
      },
      "execution_count": 54,
      "outputs": []
    },
    {
      "cell_type": "code",
      "source": [
        "output[0][\"response\"]"
      ],
      "metadata": {
        "colab": {
          "base_uri": "https://localhost:8080/",
          "height": 143
        },
        "id": "qPcjWwQCbw6A",
        "outputId": "f50e4aa9-9eb5-471c-85ee-8ea7acbd8e43"
      },
      "execution_count": 38,
      "outputs": [
        {
          "output_type": "execute_result",
          "data": {
            "text/plain": [
              "'```json\\n{\\n  \"game\": \"EA FC 24\",\\n  \"key_focus_areas\": [\\n    \"Defensive Positioning & Awareness\",\\n    \"Passing Accuracy & Decision-Making\",\\n    \"Shot Selection & Timing\",\\n    \"Player Switching & Control\",\\n    \"Set Piece Execution\"\\n  ],\\n  \"mistakes\": [\\n    {\\n      \"timestamp\": \"00:55:55\",\\n      \"description\": \"Weak penalty kick.\",\\n      \"why_incorrect\": \"The shot lacked power and placement, making it an easy save for the goalkeeper.\",\\n      \"better_alternative\": \"Use timed finishing to increase the power and accuracy of the shot. Aim for the top corner or a side with power.\",\\n      \"expected_benefit\": \"Increased chance of scoring due to a more powerful and precise shot.\"\\n    },\\n    {\\n      \"timestamp\": \"01:52\",\\n      \"description\": \"Another penalty kick with poor placement.\",\\n      \"why_incorrect\": \"Shooting straight down the middle is a low-percentage choice against human players who anticipate the direction.\",\\n      \"better_alternative\": \"Aim the penalty towards either the left or right side of the goal, utilizing the timed finishing mechanic.\",\\n      \"expected_benefit\": \"Forces the keeper to commit and cover more ground, making it harder to save.\"\\n    },\\n    {\\n      \"timestamp\": \"02:20\",\\n      \"description\": \"Defensive player commits to a reckless tackle inside the box.\",\\n      \"why_incorrect\": \"Tackling inside the box is risky as it easily leads to penalties.\",\\n      \"better_alternative\": \"Focus on jockeying (L2/LT) to contain the attacker and cut passing lanes. Only tackle if a clean, low-risk opportunity arises or if there is no other resort.\",\\n      \"expected_benefit\": \"Reduces the chance of conceding a penalty and maintains defensive stability.\"\\n    },\\n    {\\n      \"timestamp\": \"04:04\",\\n      \"description\": \"Corner kick delivery is poor and easily cleared.\",\\n      \"why_incorrect\": \"The corner is floated directly into a crowded area without accounting for player positioning or height advantage.\",\\n      \"better_alternative\": \"Use driven crosses (R1/RB + Cross Button) to deliver the ball with pace and precision towards the edge of the box or a specific player. Alternatively use the set piece tactics available.\",\\n      \"expected_benefit\": \"Creates a more dangerous opportunity for a header or volley, and reduces the chance of a simple clearance.\"\\n    }\\n  ],\\n  \"repeated_errors\": [\\n    {\\n      \"pattern\": \"Poor penalty kick execution (weak shots, predictable direction).\",\\n      \"occurrences\": [\"00:55:55\", \"01:52\"],\\n      \"fix\": \"Practice timed finishing in the skill games to consistently hit powerful and well-placed penalties. Vary the direction and power to keep opponents guessing.\"\\n    },\\n    {\\n      \"pattern\": \"Overly aggressive tackling inside the penalty area.\",\\n      \"occurrences\": [\"02:20\"],\\n      \"fix\": \"Prioritize jockeying and containing opponents inside the box. Only commit to a tackle when the ball is loose or there is a very clear opportunity to win possession without fouling.\"\\n    }\\n  ],\\n  \"missed_opportunities\": [\\n    {\\n      \"timestamp\": \"04:04\",\\n      \"missed_action\": \"Using a short corner to create a better angle for a cross or a passing play.\",\\n      \"expected_outcome\": \"Opens up the defense and allows for more creative attacking options around the box rather than blindly crossing into a crowded penalty area.\"\\n    }\\n  ]\\n}\\n```'"
            ],
            "application/vnd.google.colaboratory.intrinsic+json": {
              "type": "string"
            }
          },
          "metadata": {},
          "execution_count": 38
        }
      ]
    },
    {
      "cell_type": "code",
      "source": [
        "out[\"response\"]"
      ],
      "metadata": {
        "colab": {
          "base_uri": "https://localhost:8080/",
          "height": 143
        },
        "id": "grX55GPIdBJl",
        "outputId": "8a91d82c-7929-4a7f-e001-545850ed4031"
      },
      "execution_count": 63,
      "outputs": [
        {
          "output_type": "execute_result",
          "data": {
            "text/plain": [
              "'```json\\n{\\n  \"game\": \"EA FC 24\",\\n  \"key_focus_areas\": [\\n    \"Defensive Positioning & Awareness\",\\n    \"Passing Accuracy & Decision-Making\",\\n    \"Shot Selection & Timing\",\\n    \"Player Switching & Control\",\\n    \"Set Piece Execution\"\\n  ],\\n  \"mistakes\": [\\n    {\\n      \"timestamp\": \"00:55:55\",\\n      \"description\": \"Weak penalty kick.\",\\n      \"why_incorrect\": \"The shot lacked power and placement, making it an easy save for the goalkeeper.\",\\n      \"better_alternative\": \"Use timed finishing to increase the power and accuracy of the shot. Aim for the top corner or a side with power.\",\\n      \"expected_benefit\": \"Increased chance of scoring due to a more powerful and precise shot.\"\\n    },\\n    {\\n      \"timestamp\": \"01:52\",\\n      \"description\": \"Another penalty kick with poor placement.\",\\n      \"why_incorrect\": \"Shooting straight down the middle is a low-percentage choice against human players who anticipate the direction.\",\\n      \"better_alternative\": \"Aim the penalty towards either the left or right side of the goal, utilizing the timed finishing mechanic.\",\\n      \"expected_benefit\": \"Forces the keeper to commit and cover more ground, making it harder to save.\"\\n    },\\n    {\\n      \"timestamp\": \"02:20\",\\n      \"description\": \"Defensive player commits to a reckless tackle inside the box.\",\\n      \"why_incorrect\": \"Tackling inside the box is risky as it easily leads to penalties.\",\\n      \"better_alternative\": \"Focus on jockeying (L2/LT) to contain the attacker and cut passing lanes. Only tackle if a clean, low-risk opportunity arises or if there is no other resort.\",\\n      \"expected_benefit\": \"Reduces the chance of conceding a penalty and maintains defensive stability.\"\\n    },\\n    {\\n      \"timestamp\": \"04:04\",\\n      \"description\": \"Corner kick delivery is poor and easily cleared.\",\\n      \"why_incorrect\": \"The corner is floated directly into a crowded area without accounting for player positioning or height advantage.\",\\n      \"better_alternative\": \"Use driven crosses (R1/RB + Cross Button) to deliver the ball with pace and precision towards the edge of the box or a specific player. Alternatively use the set piece tactics available.\",\\n      \"expected_benefit\": \"Creates a more dangerous opportunity for a header or volley, and reduces the chance of a simple clearance.\"\\n    }\\n  ],\\n  \"repeated_errors\": [\\n    {\\n      \"pattern\": \"Poor penalty kick execution (weak shots, predictable direction).\",\\n      \"occurrences\": [\"00:55:55\", \"01:52\"],\\n      \"fix\": \"Practice timed finishing in the skill games to consistently hit powerful and well-placed penalties. Vary the direction and power to keep opponents guessing.\"\\n    },\\n    {\\n      \"pattern\": \"Overly aggressive tackling inside the penalty area.\",\\n      \"occurrences\": [\"02:20\"],\\n      \"fix\": \"Prioritize jockeying and containing opponents inside the box. Only commit to a tackle when the ball is loose or there is a very clear opportunity to win possession without fouling.\"\\n    }\\n  ],\\n  \"missed_opportunities\": [\\n    {\\n      \"timestamp\": \"04:04\",\\n      \"missed_action\": \"Using a short corner to create a better angle for a cross or a passing play.\",\\n      \"expected_outcome\": \"Opens up the defense and allows for more creative attacking options around the box rather than blindly crossing into a crowded penalty area.\"\\n    }\\n  ]\\n}\\n```'"
            ],
            "application/vnd.google.colaboratory.intrinsic+json": {
              "type": "string"
            }
          },
          "metadata": {},
          "execution_count": 63
        }
      ]
    },
    {
      "cell_type": "code",
      "source": [
        "json_data"
      ],
      "metadata": {
        "colab": {
          "base_uri": "https://localhost:8080/"
        },
        "id": "iJb3xI-8dHgN",
        "outputId": "0bf40078-533f-46b5-c3c4-2f26d1a0aa10"
      },
      "execution_count": 65,
      "outputs": [
        {
          "output_type": "execute_result",
          "data": {
            "text/plain": [
              "{'game': 'EA FC 24',\n",
              " 'key_focus_areas': ['Passing Accuracy & Decision-Making',\n",
              "  'Defensive Positioning & Awareness',\n",
              "  'Use of Skill Moves & Dribbling',\n",
              "  'Shot Selection & Timing'],\n",
              " 'mistakes': [{'timestamp': '00:28',\n",
              "   'description': 'Unnecessary risk when passing the ball to a player who is under pressure.',\n",
              "   'why_incorrect': 'Passing to a player marked by multiple opponents significantly increases the chance of losing possession. The passing lane is tight and the margin for error is very small.',\n",
              "   'better_alternative': 'Pass the ball backwards to a defender or midfielder who is in a better position and can see the passing options more clearly.',\n",
              "   'expected_benefit': 'Increases the likelihood of maintaining possession and building a more controlled attack.'},\n",
              "  {'timestamp': '00:51',\n",
              "   'description': 'Trying to dribble through many players instead of passing.',\n",
              "   'why_incorrect': 'Attempting to dribble through a cluster of defenders rarely succeeds due to tight marking and increased chances of losing the ball. The area is too congested to effectively use dribbling skills.',\n",
              "   'better_alternative': 'Passing the ball to a player in open space on the wing.',\n",
              "   'expected_benefit': 'Spreading the play creates opportunities for crosses, cutbacks, and shots from wider angles, and the chances of success are much higher.'},\n",
              "  {'timestamp': '03:04',\n",
              "   'description': 'The shot was underpowered.',\n",
              "   'why_incorrect': 'The shot was very weak. With the ball going to the corner of the goal, the opponent had enough time to get there and make the save.',\n",
              "   'better_alternative': 'Wait for the ball to get closer so a stronger shot can be made.',\n",
              "   'expected_benefit': 'Give the opponent less time to react and increase the chances of scoring.'}],\n",
              " 'repeated_errors': [{'pattern': 'Passing into congested areas under pressure.',\n",
              "   'occurrences': ['00:28', '00:51'],\n",
              "   'fix': 'Prioritize safe passing options to retain possession and build a more patient attack.'}],\n",
              " 'missed_opportunities': [{'timestamp': '03:04',\n",
              "   'missed_action': 'Pass to a wide open player.',\n",
              "   'expected_outcome': 'Guaranteed goal.'}]}"
            ]
          },
          "metadata": {},
          "execution_count": 65
        }
      ]
    },
    {
      "cell_type": "code",
      "source": [
        "\n",
        "def format_analysis(json_data):\n",
        "    \"\"\"Formats the JSON data into a human-readable string.\n",
        "\n",
        "    Args:\n",
        "        json_data (dict): The JSON data representing the game analysis.\n",
        "\n",
        "    Returns:\n",
        "        str: A formatted string for user readability.\n",
        "    \"\"\"\n",
        "\n",
        "    output = f\"Game: {json_data['game']}\\n\\n\"\n",
        "    output += \"Key Focus Areas:\\n\"\n",
        "    for area in json_data['key_focus_areas']:\n",
        "        output += f\"- {area}\\n\"\n",
        "\n",
        "    output += \"\\nMistakes:\\n\"\n",
        "    for mistake in json_data['mistakes']:\n",
        "        output += f\"  Timestamp: {mistake['timestamp']}\\n\"\n",
        "        output += f\"  Description: {mistake['description']}\\n\"\n",
        "        output += f\"  Why Incorrect: {mistake['why_incorrect']}\\n\"\n",
        "        output += f\"  Better Alternative: {mistake['better_alternative']}\\n\"\n",
        "        output += f\"  Expected Benefit: {mistake['expected_benefit']}\\n\"\n",
        "        output += \"\\n\"\n",
        "\n",
        "    output += \"Repeated Errors:\\n\"\n",
        "    for error in json_data['repeated_errors']:\n",
        "        output += f\"  Pattern: {error['pattern']}\\n\"\n",
        "        output += f\"  Occurrences: {', '.join(error['occurrences'])}\\n\"\n",
        "        output += f\"  Fix: {error['fix']}\\n\"\n",
        "        output += \"\\n\"\n",
        "\n",
        "    output += \"Missed Opportunities:\\n\"\n",
        "    for opportunity in json_data['missed_opportunities']:\n",
        "        output += f\"  Timestamp: {opportunity['timestamp']}\\n\"\n",
        "        output += f\"  Missed Action: {opportunity['missed_action']}\\n\"\n",
        "        output += f\"  Expected Outcome: {opportunity['expected_outcome']}\\n\"\n",
        "        output += \"\\n\"\n",
        "\n",
        "    return output"
      ],
      "metadata": {
        "id": "_UdcrqoCdTap"
      },
      "execution_count": 66,
      "outputs": []
    },
    {
      "cell_type": "code",
      "source": [],
      "metadata": {
        "colab": {
          "base_uri": "https://localhost:8080/"
        },
        "id": "MNDEaB9odUC7",
        "outputId": "c5a74fa8-dac5-4410-c8e7-632c566b711c"
      },
      "execution_count": 68,
      "outputs": [
        {
          "output_type": "stream",
          "name": "stdout",
          "text": [
            "Game: EA FC 24\n",
            "\n",
            "Key Focus Areas:\n",
            "- Passing Accuracy & Decision-Making\n",
            "- Defensive Positioning & Awareness\n",
            "- Use of Skill Moves & Dribbling\n",
            "- Shot Selection & Timing\n",
            "\n",
            "Mistakes:\n",
            "  Timestamp: 00:28\n",
            "  Description: Unnecessary risk when passing the ball to a player who is under pressure.\n",
            "  Why Incorrect: Passing to a player marked by multiple opponents significantly increases the chance of losing possession. The passing lane is tight and the margin for error is very small.\n",
            "  Better Alternative: Pass the ball backwards to a defender or midfielder who is in a better position and can see the passing options more clearly.\n",
            "  Expected Benefit: Increases the likelihood of maintaining possession and building a more controlled attack.\n",
            "\n",
            "  Timestamp: 00:51\n",
            "  Description: Trying to dribble through many players instead of passing.\n",
            "  Why Incorrect: Attempting to dribble through a cluster of defenders rarely succeeds due to tight marking and increased chances of losing the ball. The area is too congested to effectively use dribbling skills.\n",
            "  Better Alternative: Passing the ball to a player in open space on the wing.\n",
            "  Expected Benefit: Spreading the play creates opportunities for crosses, cutbacks, and shots from wider angles, and the chances of success are much higher.\n",
            "\n",
            "  Timestamp: 03:04\n",
            "  Description: The shot was underpowered.\n",
            "  Why Incorrect: The shot was very weak. With the ball going to the corner of the goal, the opponent had enough time to get there and make the save.\n",
            "  Better Alternative: Wait for the ball to get closer so a stronger shot can be made.\n",
            "  Expected Benefit: Give the opponent less time to react and increase the chances of scoring.\n",
            "\n",
            "Repeated Errors:\n",
            "  Pattern: Passing into congested areas under pressure.\n",
            "  Occurrences: 00:28, 00:51\n",
            "  Fix: Prioritize safe passing options to retain possession and build a more patient attack.\n",
            "\n",
            "Missed Opportunities:\n",
            "  Timestamp: 03:04\n",
            "  Missed Action: Pass to a wide open player.\n",
            "  Expected Outcome: Guaranteed goal.\n",
            "\n",
            "\n"
          ]
        }
      ]
    },
    {
      "cell_type": "code",
      "source": [
        "for out in output:\n",
        "  print(f\"Video: {out['video'].display_name}\")\n",
        "\n",
        "  json_data = extract_json(out[\"response\"])\n",
        "\n",
        "  print(format_analysis(json_data))"
      ],
      "metadata": {
        "colab": {
          "base_uri": "https://localhost:8080/"
        },
        "id": "LFIJGU2ba16P",
        "outputId": "74c25881-b7f9-4c73-bb2a-12e3f067e757"
      },
      "execution_count": 69,
      "outputs": [
        {
          "output_type": "stream",
          "name": "stdout",
          "text": [
            "Video: videoplayback (2)111.mp4\n",
            "Game: EA FC 24\n",
            "\n",
            "Key Focus Areas:\n",
            "- Defensive Positioning & Awareness\n",
            "- Passing Accuracy & Decision-Making\n",
            "- Shot Selection & Timing\n",
            "- Player Switching & Control\n",
            "- Set Piece Execution\n",
            "\n",
            "Mistakes:\n",
            "  Timestamp: 00:55:55\n",
            "  Description: Weak penalty kick.\n",
            "  Why Incorrect: The shot lacked power and placement, making it an easy save for the goalkeeper.\n",
            "  Better Alternative: Use timed finishing to increase the power and accuracy of the shot. Aim for the top corner or a side with power.\n",
            "  Expected Benefit: Increased chance of scoring due to a more powerful and precise shot.\n",
            "\n",
            "  Timestamp: 01:52\n",
            "  Description: Another penalty kick with poor placement.\n",
            "  Why Incorrect: Shooting straight down the middle is a low-percentage choice against human players who anticipate the direction.\n",
            "  Better Alternative: Aim the penalty towards either the left or right side of the goal, utilizing the timed finishing mechanic.\n",
            "  Expected Benefit: Forces the keeper to commit and cover more ground, making it harder to save.\n",
            "\n",
            "  Timestamp: 02:20\n",
            "  Description: Defensive player commits to a reckless tackle inside the box.\n",
            "  Why Incorrect: Tackling inside the box is risky as it easily leads to penalties.\n",
            "  Better Alternative: Focus on jockeying (L2/LT) to contain the attacker and cut passing lanes. Only tackle if a clean, low-risk opportunity arises or if there is no other resort.\n",
            "  Expected Benefit: Reduces the chance of conceding a penalty and maintains defensive stability.\n",
            "\n",
            "  Timestamp: 04:04\n",
            "  Description: Corner kick delivery is poor and easily cleared.\n",
            "  Why Incorrect: The corner is floated directly into a crowded area without accounting for player positioning or height advantage.\n",
            "  Better Alternative: Use driven crosses (R1/RB + Cross Button) to deliver the ball with pace and precision towards the edge of the box or a specific player. Alternatively use the set piece tactics available.\n",
            "  Expected Benefit: Creates a more dangerous opportunity for a header or volley, and reduces the chance of a simple clearance.\n",
            "\n",
            "Repeated Errors:\n",
            "  Pattern: Poor penalty kick execution (weak shots, predictable direction).\n",
            "  Occurrences: 00:55:55, 01:52\n",
            "  Fix: Practice timed finishing in the skill games to consistently hit powerful and well-placed penalties. Vary the direction and power to keep opponents guessing.\n",
            "\n",
            "  Pattern: Overly aggressive tackling inside the penalty area.\n",
            "  Occurrences: 02:20\n",
            "  Fix: Prioritize jockeying and containing opponents inside the box. Only commit to a tackle when the ball is loose or there is a very clear opportunity to win possession without fouling.\n",
            "\n",
            "Missed Opportunities:\n",
            "  Timestamp: 04:04\n",
            "  Missed Action: Using a short corner to create a better angle for a cross or a passing play.\n",
            "  Expected Outcome: Opens up the defense and allows for more creative attacking options around the box rather than blindly crossing into a crowded penalty area.\n",
            "\n",
            "\n",
            "Video: videoplaybacksample.mp4\n",
            "Game: EA FC 24\n",
            "\n",
            "Key Focus Areas:\n",
            "- Passing Accuracy & Decision-Making\n",
            "- Defensive Positioning & Awareness\n",
            "- Use of Skill Moves & Dribbling\n",
            "- Shot Selection & Timing\n",
            "\n",
            "Mistakes:\n",
            "  Timestamp: 00:28\n",
            "  Description: Unnecessary risk when passing the ball to a player who is under pressure.\n",
            "  Why Incorrect: Passing to a player marked by multiple opponents significantly increases the chance of losing possession. The passing lane is tight and the margin for error is very small.\n",
            "  Better Alternative: Pass the ball backwards to a defender or midfielder who is in a better position and can see the passing options more clearly.\n",
            "  Expected Benefit: Increases the likelihood of maintaining possession and building a more controlled attack.\n",
            "\n",
            "  Timestamp: 00:51\n",
            "  Description: Trying to dribble through many players instead of passing.\n",
            "  Why Incorrect: Attempting to dribble through a cluster of defenders rarely succeeds due to tight marking and increased chances of losing the ball. The area is too congested to effectively use dribbling skills.\n",
            "  Better Alternative: Passing the ball to a player in open space on the wing.\n",
            "  Expected Benefit: Spreading the play creates opportunities for crosses, cutbacks, and shots from wider angles, and the chances of success are much higher.\n",
            "\n",
            "  Timestamp: 03:04\n",
            "  Description: The shot was underpowered.\n",
            "  Why Incorrect: The shot was very weak. With the ball going to the corner of the goal, the opponent had enough time to get there and make the save.\n",
            "  Better Alternative: Wait for the ball to get closer so a stronger shot can be made.\n",
            "  Expected Benefit: Give the opponent less time to react and increase the chances of scoring.\n",
            "\n",
            "Repeated Errors:\n",
            "  Pattern: Passing into congested areas under pressure.\n",
            "  Occurrences: 00:28, 00:51\n",
            "  Fix: Prioritize safe passing options to retain possession and build a more patient attack.\n",
            "\n",
            "Missed Opportunities:\n",
            "  Timestamp: 03:04\n",
            "  Missed Action: Pass to a wide open player.\n",
            "  Expected Outcome: Guaranteed goal.\n",
            "\n",
            "\n"
          ]
        }
      ]
    }
  ]
}